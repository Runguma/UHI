{
 "cells": [
  {
   "cell_type": "markdown",
   "id": "e535df30-999a-48de-9ed7-43fa8f4565a5",
   "metadata": {},
   "source": [
    "<h1><u><font color='red'>Step 1</font></u></h1>\n",
    "\n",
    "#### Prepare workspace"
   ]
  },
  {
   "cell_type": "markdown",
   "id": "06492a9d-c7c2-4c00-8724-0249ef146115",
   "metadata": {},
   "source": [
    "<h4><font color='blue'>Import libraries</font></h4>"
   ]
  },
  {
   "cell_type": "code",
   "execution_count": 1,
   "id": "82d04f6c-163a-4797-a5af-44106a3f404b",
   "metadata": {
    "jupyter": {
     "source_hidden": true
    }
   },
   "outputs": [
    {
     "name": "stdout",
     "output_type": "stream",
     "text": [
      "All libraries imported\n"
     ]
    }
   ],
   "source": [
    "import geopandas as gpd\n",
    "from shapely.geometry import box\n",
    "from shapely.geometry import MultiPoint\n",
    "import ee\n",
    "import matplotlib.pyplot as plt\n",
    "import json\n",
    "import requests\n",
    "from geemap import geojson_to_ee, ee_to_geojson\n",
    "from ipyleaflet import GeoJSON\n",
    "import geojson\n",
    "import rasterio\n",
    "from rasterio.features import rasterize\n",
    "from rasterio.mask import mask\n",
    "import os\n",
    "import os\n",
    "import osmnx as ox\n",
    "import geopandas as gpd\n",
    "import pandas as pd\n",
    "import glob\n",
    "from math import sqrt, ceil\n",
    "from shapely.geometry import Polygon\n",
    "import shapefile\n",
    "import shutil\n",
    "import pyproj\n",
    "import rasterio\n",
    "import rasterio.features\n",
    "import folium\n",
    "from tqdm import tqdm\n",
    "import warnings\n",
    "import fiona\n",
    "import folium\n",
    "import ee\n",
    "import geemap\n",
    "from ipyleaflet import TileLayer, basemaps\n",
    "import json\n",
    "import requests\n",
    "from geemap import geojson_to_ee, ee_to_geojson\n",
    "from ipyleaflet import GeoJSON\n",
    "import geojson\n",
    "import geemap.colormaps as cm\n",
    "import rasterio\n",
    "from rasterio.plot import reshape_as_image\n",
    "from geemap.legends import builtin_legends\n",
    "import rasterio\n",
    "from rasterstats import zonal_stats\n",
    "from matplotlib.lines import Line2D\n",
    "\n",
    "print(\"All libraries imported\")"
   ]
  },
  {
   "cell_type": "markdown",
   "id": "36ed5ffd-390c-4ac5-8cc0-fb8818926bac",
   "metadata": {},
   "source": [
    "<h4><font color='blue'>Initializa and authenticate GEE</font></h4>"
   ]
  },
  {
   "cell_type": "code",
   "execution_count": 2,
   "id": "72186ce0-92ae-44af-8dd8-08789ae7cb1d",
   "metadata": {},
   "outputs": [
    {
     "data": {
      "text/html": [
       "\n",
       "            <style>\n",
       "                .geemap-dark {\n",
       "                    --jp-widgets-color: white;\n",
       "                    --jp-widgets-label-color: white;\n",
       "                    --jp-ui-font-color1: white;\n",
       "                    --jp-layout-color2: #454545;\n",
       "                    background-color: #383838;\n",
       "                }\n",
       "\n",
       "                .geemap-dark .jupyter-button {\n",
       "                    --jp-layout-color3: #383838;\n",
       "                }\n",
       "\n",
       "                .geemap-colab {\n",
       "                    background-color: var(--colab-primary-surface-color, white);\n",
       "                }\n",
       "\n",
       "                .geemap-colab .jupyter-button {\n",
       "                    --jp-layout-color3: var(--colab-primary-surface-color, white);\n",
       "                }\n",
       "            </style>\n",
       "            "
      ],
      "text/plain": [
       "<IPython.core.display.HTML object>"
      ]
     },
     "metadata": {},
     "output_type": "display_data"
    }
   ],
   "source": [
    "ee.Authenticate()\n",
    "ee.Initialize()"
   ]
  },
  {
   "cell_type": "markdown",
   "id": "d6b21989-13f6-485c-9fda-b8e58531ac38",
   "metadata": {},
   "source": [
    "<h1><u><font color='red'>Step 2</font></u></h1>\n",
    "\n",
    "#### Prepare working datasets"
   ]
  },
  {
   "cell_type": "markdown",
   "id": "ed664924-da52-44ac-b1eb-a59d29946a81",
   "metadata": {},
   "source": [
    "<h4><font color='blue'>Import datasets</font></h4>"
   ]
  },
  {
   "cell_type": "code",
   "execution_count": 3,
   "id": "8e233296-6fd5-4f12-8ce2-f15da437b204",
   "metadata": {},
   "outputs": [
    {
     "data": {
      "text/html": [
       "\n",
       "            <style>\n",
       "                .geemap-dark {\n",
       "                    --jp-widgets-color: white;\n",
       "                    --jp-widgets-label-color: white;\n",
       "                    --jp-ui-font-color1: white;\n",
       "                    --jp-layout-color2: #454545;\n",
       "                    background-color: #383838;\n",
       "                }\n",
       "\n",
       "                .geemap-dark .jupyter-button {\n",
       "                    --jp-layout-color3: #383838;\n",
       "                }\n",
       "\n",
       "                .geemap-colab {\n",
       "                    background-color: var(--colab-primary-surface-color, white);\n",
       "                }\n",
       "\n",
       "                .geemap-colab .jupyter-button {\n",
       "                    --jp-layout-color3: var(--colab-primary-surface-color, white);\n",
       "                }\n",
       "            </style>\n",
       "            "
      ],
      "text/plain": [
       "<IPython.core.display.HTML object>"
      ]
     },
     "metadata": {},
     "output_type": "display_data"
    }
   ],
   "source": [
    "#Import datasets\n",
    "Bound = r\"C:\\Users\\marti\\unhabitat\\10_Palestine_Final\\Boundaries\\Gaza_Strip_Bound.shp\"\n",
    "Degurba_L1 = r\"C:\\Users\\marti\\unhabitat\\10_Palestine_Final\\Degurba\\L1_Degurba.shp\"\n",
    "National_Boundary = r\"C:\\Users\\marti\\unhabitat\\10_Palestine_Final\\Boundaries\\Gaza_Strip.shp\"\n",
    "CDA_Assessment = r\"C:\\Users\\marti\\unhabitat\\09_Palestine\\Raster\\damage\\CDA_Mask2.shp\"\n",
    "\n",
    "#Read datasets\n",
    "National_Boundary = gpd.read_file(National_Boundary)\n",
    "Bound = gpd.read_file(Bound)\n",
    "Degurba = gpd.read_file(Degurba_L1)\n",
    "CDA_Assessment = gpd.read_file(CDA_Assessment)\n",
    "\n",
    "#Convert items to GEE objects\n",
    "## Convert National boundary area to gee object\n",
    "boundary = National_Boundary.to_crs('EPSG:4326')\n",
    "boundary_js = json.loads(boundary.to_json())\n",
    "Bound_geom = ee.Geometry(ee.FeatureCollection(boundary_js).geometry())\n",
    "##Bound\n",
    "BBox = Bound.to_crs('EPSG:4326')\n",
    "Bbox_js = json.loads(BBox.to_json())\n",
    "Bbox = ee.Geometry(ee.FeatureCollection(Bbox_js).geometry())\n",
    "##CDA_Assessment\n",
    "CDA = CDA_Assessment.to_crs('EPSG:4326')\n",
    "CDA_js = json.loads(CDA.to_json())\n",
    "Affected_areas = ee.Geometry(ee.FeatureCollection(CDA_js).geometry())"
   ]
  },
  {
   "cell_type": "markdown",
   "id": "1c220a93-4f27-4963-85be-d222ec561d88",
   "metadata": {},
   "source": [
    "<h4><font color='blue'>Select urban and rural areas from degurba dataset</font></h4>"
   ]
  },
  {
   "cell_type": "code",
   "execution_count": 4,
   "id": "94bd9101-6cca-4ed8-a7b3-52ca20aece56",
   "metadata": {},
   "outputs": [
    {
     "data": {
      "text/html": [
       "\n",
       "            <style>\n",
       "                .geemap-dark {\n",
       "                    --jp-widgets-color: white;\n",
       "                    --jp-widgets-label-color: white;\n",
       "                    --jp-ui-font-color1: white;\n",
       "                    --jp-layout-color2: #454545;\n",
       "                    background-color: #383838;\n",
       "                }\n",
       "\n",
       "                .geemap-dark .jupyter-button {\n",
       "                    --jp-layout-color3: #383838;\n",
       "                }\n",
       "\n",
       "                .geemap-colab {\n",
       "                    background-color: var(--colab-primary-surface-color, white);\n",
       "                }\n",
       "\n",
       "                .geemap-colab .jupyter-button {\n",
       "                    --jp-layout-color3: var(--colab-primary-surface-color, white);\n",
       "                }\n",
       "            </style>\n",
       "            "
      ],
      "text/plain": [
       "<IPython.core.display.HTML object>"
      ]
     },
     "metadata": {},
     "output_type": "display_data"
    },
    {
     "data": {
      "image/png": "[encoded data removed]",
      "text/plain": [
       "<Figure size 500x500 with 1 Axes>"
      ]
     },
     "metadata": {},
     "output_type": "display_data"
    }
   ],
   "source": [
    "# Define urban and rural categories\n",
    "urban_code = 3\n",
    "periurban_code = 2\n",
    "rural_code = 1\n",
    "\n",
    "# Create a new column to store the category\n",
    "Degurba['category'] = None\n",
    "\n",
    "# Assign categories based on gridcode\n",
    "Degurba.loc[Degurba['gridcode'] == urban_code, 'category'] = 'Urban'\n",
    "Degurba.loc[Degurba['gridcode'] == periurban_code, 'category'] = 'Peri_Urban'\n",
    "Degurba.loc[Degurba['gridcode'] == rural_code, 'category'] = 'Rural'\n",
    "\n",
    "# Dissolve urban and rural areas separately\n",
    "urban_areas = Degurba[Degurba['category'] == 'Urban'].dissolve(by='category')\n",
    "periurban_areas = Degurba[Degurba['category'] == 'Peri_Urban'].dissolve(by='category')\n",
    "rural_areas = Degurba[Degurba['category'] == 'Rural'].dissolve(by='category')\n",
    "\n",
    "# Plot urban and rural areas\n",
    "fig, ax = plt.subplots(figsize=(5, 5))\n",
    "Degurba.plot(ax=ax, color='lightgrey', edgecolor='black')  # Plot all areas in light grey\n",
    "urban_areas.plot(ax=ax, color='red', alpha=0.5, edgecolor='red', label='Urban')  # Plot urban areas in red\n",
    "periurban_areas.plot(ax=ax, color='orange', alpha=0.5, edgecolor='orange', label='Peri_Urban')  # Plot urban areas in red\n",
    "rural_areas.plot(ax=ax, color='green', alpha=0.5, edgecolor='green', label='Rural')  # Plot rural areas in green\n",
    "\n",
    "#Plot\n",
    "# Create custom legend\n",
    "legend_elements = [Line2D([0], [0], marker='s', color='w', label='Urban', markerfacecolor='red', markersize=5),\n",
    "                   Line2D([0], [0], marker='s', color='w', label='Peri Urban', markerfacecolor='orange', markersize=5),\n",
    "                   Line2D([0], [0], marker='s', color='w', label='Rural', markerfacecolor='green', markersize=5)]\n",
    "\n",
    "# Add legend to the plot\n",
    "ax.legend(handles=legend_elements, loc='upper left')\n",
    "plt.title('Degurba Settlemenet Areas')\n",
    "plt.xlabel('Longitude')\n",
    "plt.ylabel('Latitude')\n",
    "plt.show()\n"
   ]
  },
  {
   "cell_type": "markdown",
   "id": "8c889d84-c698-42ac-b9e3-6413e1b59ad5",
   "metadata": {},
   "source": [
    "<h4><font color='blue'>Create custom urban and rural areas of interest</font></h4>\n",
    "\n",
    "<blockquote>This is based on overlay between built up area, and a 100m grid</blockquote>"
   ]
  },
  {
   "cell_type": "code",
   "execution_count": 5,
   "id": "1e9a8ccf-d798-4a48-93a5-b88a23a232ee",
   "metadata": {},
   "outputs": [
    {
     "data": {
      "text/html": [
       "\n",
       "            <style>\n",
       "                .geemap-dark {\n",
       "                    --jp-widgets-color: white;\n",
       "                    --jp-widgets-label-color: white;\n",
       "                    --jp-ui-font-color1: white;\n",
       "                    --jp-layout-color2: #454545;\n",
       "                    background-color: #383838;\n",
       "                }\n",
       "\n",
       "                .geemap-dark .jupyter-button {\n",
       "                    --jp-layout-color3: #383838;\n",
       "                }\n",
       "\n",
       "                .geemap-colab {\n",
       "                    background-color: var(--colab-primary-surface-color, white);\n",
       "                }\n",
       "\n",
       "                .geemap-colab .jupyter-button {\n",
       "                    --jp-layout-color3: var(--colab-primary-surface-color, white);\n",
       "                }\n",
       "            </style>\n",
       "            "
      ],
      "text/plain": [
       "<IPython.core.display.HTML object>"
      ]
     },
     "metadata": {},
     "output_type": "display_data"
    },
    {
     "data": {
      "image/png": "[encoded data removed]",
      "text/plain": [
       "<Figure size 500x500 with 2 Axes>"
      ]
     },
     "metadata": {},
     "output_type": "display_data"
    }
   ],
   "source": [
    "#Create 100m grid\n",
    "# Get the extent of the boundary\n",
    "xmin, ymin, xmax, ymax = Bound.total_bounds\n",
    "# Create a GeoDataFrame of rectangular grids\n",
    "grid = gpd.GeoDataFrame(geometry=[box(x, y, x + 100, y + 100) for x in range(int(xmin), int(xmax), 100) for y in range(int(ymin), int(ymax), 100)], crs=Bound.crs)\n",
    "\n",
    "#Import and clip built up data\n",
    "#WSF data\n",
    "wsf_2019 = ee.ImageCollection(\"projects/sat-io/open-datasets/WSF/WSF_2019\").filterBounds(Bound_geom).mosaic()\n",
    "#Clip\n",
    "wsf_2019_clipped = wsf_2019.clip(Bound_geom)\n",
    "\n",
    "#Reclassify and select built up values\n",
    "#Select built up area\n",
    "Built = wsf_2019_clipped.gte(255)\n",
    "Built = Built.updateMask(Built.neq(0))\n",
    "\n",
    "#Convert built up vector to raster\n",
    "# Create a Reducer object\n",
    "reducer = ee.Reducer.mean()\n",
    "\n",
    "# Convert the zones of the thresholded nightlights to vectors\n",
    "vectors = Built.addBands(wsf_2019_clipped).reduceToVectors(\n",
    "    geometry=Bound_geom,\n",
    "    crs=wsf_2019_clipped.projection().getInfo()['crs'],\n",
    "    scale=100,\n",
    "    geometryType='polygon',\n",
    "    eightConnected=False,\n",
    "    labelProperty='built',\n",
    "    reducer=reducer,\n",
    "    maxPixels=1e13\n",
    ")\n",
    "# Convert the feature collection to a GeoDataFrame\n",
    "wsf_2019_gdf = ee.FeatureCollection(vectors).getInfo()\n",
    "wsf_2019_gdf = gpd.GeoDataFrame.from_features(wsf_2019_gdf, crs=boundary.crs)\n",
    "\n",
    "# Reproject all datasets to the right projection\n",
    "grid = grid.to_crs(epsg=4326)\n",
    "urban_areas = urban_areas.to_crs(grid.crs)\n",
    "rural_areas = rural_areas.to_crs(grid.crs)\n",
    "\n",
    "# Perform spatial join between grid and urban areas\n",
    "grid_within_aoi = gpd.sjoin(grid, wsf_2019_gdf, how='inner', predicate='intersects')\n",
    "#Error check\n",
    "# Check if 'index_left' exists, if yes, drop it\n",
    "try:\n",
    "    grid = grid_within_aoi.drop('index_left', axis=1)\n",
    "except KeyError:\n",
    "    pass\n",
    "\n",
    "# Check if 'index_right' exists, if yes, drop it\n",
    "try:\n",
    "    grid = grid_within_aoi.drop('index_right', axis=1)\n",
    "except KeyError:\n",
    "    pass\n",
    "\n",
    "grid_within_urban = gpd.sjoin(grid, urban_areas, how='inner', predicate='intersects')\n",
    "#Error check\n",
    "# Check if 'index_left' exists, if yes, drop it\n",
    "try:\n",
    "    grid = grid_within_aoi.drop('index_left', axis=1)\n",
    "except KeyError:\n",
    "    pass\n",
    "\n",
    "# Check if 'index_right' exists, if yes, drop it\n",
    "try:\n",
    "    grid = grid_within_aoi.drop('index_right', axis=1)\n",
    "except KeyError:\n",
    "    pass\n",
    "\n",
    "grid_within_rural = gpd.sjoin(grid, rural_areas, how='inner', predicate='intersects')\n",
    "\n",
    "# Dissolve urban and rural areas\n",
    "Urban02 = grid_within_urban.dissolve()\n",
    "Rural02 = grid_within_rural.dissolve()\n",
    "\n",
    "\n",
    "#Plot data\n",
    "# Create a figure with two subplots\n",
    "fig, (ax1, ax2) = plt.subplots(1, 2, figsize=(5, 5))\n",
    "# Plot the built up data on the first subplot\n",
    "wsf_2019_gdf.plot(edgecolor='black', facecolor='none', ax=ax1)\n",
    "ax1.set_title('Built up')\n",
    "\n",
    "# Plot the settlement boundaries on the second subplot\n",
    "# Plot Urban areas\n",
    "Urban02.plot(ax=ax2, color='red', edgecolor='red', alpha=0.5, label='Urban Areas')\n",
    "Rural02.plot(ax=ax2, color='green', edgecolor='green', alpha=0.5, label='Rural Areas')\n",
    "\n",
    "\n",
    "# Adjust spacing between subplots\n",
    "plt.tight_layout()\n",
    "\n",
    "# Show the plot\n",
    "plt.show()\n",
    "\n",
    "\n"
   ]
  },
  {
   "cell_type": "markdown",
   "id": "79ab1d37-86ba-484f-a584-304236963958",
   "metadata": {},
   "source": [
    "<h1><u><font color='red'>Step 3</font></u></h1>\n",
    "\n",
    "#### Import Satellite data"
   ]
  },
  {
   "cell_type": "markdown",
   "id": "c8931201-764d-4fdd-9025-d83ca29582b8",
   "metadata": {},
   "source": [
    "<h4><font color='blue'>Create interactive map</font></h4>\n",
    "\n",
    "<blockquote>To display all the data</blockquote>"
   ]
  },
  {
   "cell_type": "code",
   "execution_count": 6,
   "id": "e00cc9e7-7485-4948-8dfa-6e9d9049ed0a",
   "metadata": {},
   "outputs": [
    {
     "data": {
      "text/html": [
       "\n",
       "            <style>\n",
       "                .geemap-dark {\n",
       "                    --jp-widgets-color: white;\n",
       "                    --jp-widgets-label-color: white;\n",
       "                    --jp-ui-font-color1: white;\n",
       "                    --jp-layout-color2: #454545;\n",
       "                    background-color: #383838;\n",
       "                }\n",
       "\n",
       "                .geemap-dark .jupyter-button {\n",
       "                    --jp-layout-color3: #383838;\n",
       "                }\n",
       "\n",
       "                .geemap-colab {\n",
       "                    background-color: var(--colab-primary-surface-color, white);\n",
       "                }\n",
       "\n",
       "                .geemap-colab .jupyter-button {\n",
       "                    --jp-layout-color3: var(--colab-primary-surface-color, white);\n",
       "                }\n",
       "            </style>\n",
       "            "
      ],
      "text/plain": [
       "<IPython.core.display.HTML object>"
      ]
     },
     "metadata": {},
     "output_type": "display_data"
    },
    {
     "name": "stderr",
     "output_type": "stream",
     "text": [
      "C:\\Users\\marti\\AppData\\Local\\Temp\\ipykernel_38696\\3363353192.py:3: UserWarning: Geometry is in a geographic CRS. Results from 'centroid' are likely incorrect. Use 'GeoSeries.to_crs()' to re-project geometries to a projected CRS before this operation.\n",
      "\n",
      "  centroid = BBox.geometry.centroid.iloc[0]  # Assuming there's only one geometry in the shapefile\n"
     ]
    },
    {
     "data": {
      "application/vnd.jupyter.widget-view+json": {
       "model_id": "62f7e68c91c84088b1bfafcf012ff04f",
       "version_major": 2,
       "version_minor": 0
      },
      "text/plain": [
       "Map(center=[31.407520860658423, 34.403476687617335], controls=(WidgetControl(options=['position', 'transparent…"
      ]
     },
     "execution_count": 6,
     "metadata": {},
     "output_type": "execute_result"
    }
   ],
   "source": [
    "#Create map\n",
    "# Compute the centroid\n",
    "centroid = BBox.geometry.centroid.iloc[0]  # Assuming there's only one geometry in the shapefile\n",
    "longitude = centroid.x\n",
    "latitude = centroid.y\n",
    "\n",
    "#Create interactive map\n",
    "#Get map\n",
    "\n",
    "center = [latitude, longitude]\n",
    "zoom = 10\n",
    "Map_1 = geemap.Map(\n",
    "    center=center,\n",
    "    zoom=zoom,\n",
    "    #interpolation=\"nearest\",\n",
    "    #basemap=basemaps.CartoDB.DarkMatter,\n",
    "    add_google_map=False,\n",
    "    ee_initialize=False,\n",
    ")\n",
    "\n",
    "#Add other basemaps\n",
    "Map_1.add_basemap(\"Esri.WorldImagery\")\n",
    "\n",
    "#Visualize\n",
    "Map_1"
   ]
  },
  {
   "cell_type": "markdown",
   "id": "cc1f0455-e4e2-4681-85e2-a0559151723f",
   "metadata": {},
   "source": [
    "<h4><font color='blue'>Input study dates</font></h4>\n",
    "\n",
    "<blockquote>Prewar and During war dates</blockquote>\n",
    "<blockquote>or year of analysis date</blockquote>\n"
   ]
  },
  {
   "cell_type": "code",
   "execution_count": 7,
   "id": "43406598-1096-4100-b542-9515137fff07",
   "metadata": {},
   "outputs": [
    {
     "data": {
      "text/html": [
       "\n",
       "            <style>\n",
       "                .geemap-dark {\n",
       "                    --jp-widgets-color: white;\n",
       "                    --jp-widgets-label-color: white;\n",
       "                    --jp-ui-font-color1: white;\n",
       "                    --jp-layout-color2: #454545;\n",
       "                    background-color: #383838;\n",
       "                }\n",
       "\n",
       "                .geemap-dark .jupyter-button {\n",
       "                    --jp-layout-color3: #383838;\n",
       "                }\n",
       "\n",
       "                .geemap-colab {\n",
       "                    background-color: var(--colab-primary-surface-color, white);\n",
       "                }\n",
       "\n",
       "                .geemap-colab .jupyter-button {\n",
       "                    --jp-layout-color3: var(--colab-primary-surface-color, white);\n",
       "                }\n",
       "            </style>\n",
       "            "
      ],
      "text/plain": [
       "<IPython.core.display.HTML object>"
      ]
     },
     "metadata": {},
     "output_type": "display_data"
    }
   ],
   "source": [
    "start_date = '2022-12-01'\n",
    "end_date = '2023-04-30'"
   ]
  },
  {
   "cell_type": "markdown",
   "id": "74d1ba0b-b9f4-4455-acde-d14010792d9a",
   "metadata": {},
   "source": [
    "<h4><font color='blue'>Load satellite imagery</font></h4>\n",
    "\n",
    "<blockquote>Sentinel 2</blockquote>\n",
    "<blockquote>Landsat 8 and 9</blockquote>\n",
    "<blockquote>Modis Aqua</blockquote>"
   ]
  },
  {
   "cell_type": "code",
   "execution_count": 8,
   "id": "285f0ca8-519d-4db5-bff5-212c50be0aad",
   "metadata": {},
   "outputs": [
    {
     "data": {
      "text/html": [
       "\n",
       "            <style>\n",
       "                .geemap-dark {\n",
       "                    --jp-widgets-color: white;\n",
       "                    --jp-widgets-label-color: white;\n",
       "                    --jp-ui-font-color1: white;\n",
       "                    --jp-layout-color2: #454545;\n",
       "                    background-color: #383838;\n",
       "                }\n",
       "\n",
       "                .geemap-dark .jupyter-button {\n",
       "                    --jp-layout-color3: #383838;\n",
       "                }\n",
       "\n",
       "                .geemap-colab {\n",
       "                    background-color: var(--colab-primary-surface-color, white);\n",
       "                }\n",
       "\n",
       "                .geemap-colab .jupyter-button {\n",
       "                    --jp-layout-color3: var(--colab-primary-surface-color, white);\n",
       "                }\n",
       "            </style>\n",
       "            "
      ],
      "text/plain": [
       "<IPython.core.display.HTML object>"
      ]
     },
     "metadata": {},
     "output_type": "display_data"
    },
    {
     "name": "stdout",
     "output_type": "stream",
     "text": [
      "Sentinel band names: ['B1', 'B2', 'B3', 'B4', 'B5', 'B6', 'B7', 'B8', 'B8A', 'B9', 'B11', 'B12', 'AOT', 'WVP', 'SCL', 'TCI_R', 'TCI_G', 'TCI_B', 'MSK_CLDPRB', 'MSK_SNWPRB', 'QA10', 'QA20', 'QA60']\n"
     ]
    }
   ],
   "source": [
    "#Sentinel 2\n",
    "#Load sentinel data\n",
    "#Function to mask clouds from Sentinel-2 images\n",
    "def maskS2clouds(image):\n",
    "    # Select the QA60 band from the image\n",
    "    qa = image.select('QA60')\n",
    "\n",
    "    # Define the bit masks for clouds and cirrus clouds\n",
    "    cloudBitMask = 1 << 10\n",
    "    cirrusBitMask = 1 << 11\n",
    "\n",
    "    # Create a mask by checking if the corresponding bits in the QA60 band are clear\n",
    "    mask = qa.bitwiseAnd(cloudBitMask).eq(0) \\\n",
    "           .And(qa.bitwiseAnd(cirrusBitMask).eq(0))\n",
    "\n",
    "    # Apply the mask to the image and divide by 10000 to scale the pixel values\n",
    "    return image.updateMask(mask).divide(10000)\n",
    "\n",
    "# Load Sentinel-2 data and apply processing steps\n",
    "s2 = ee.ImageCollection('COPERNICUS/S2_SR_HARMONIZED') \\\n",
    "     .filterDate(start_date, end_date) \\\n",
    "     .filterBounds(Bbox) \\\n",
    "     .filter(ee.Filter.lt('CLOUDY_PIXEL_PERCENTAGE', 10)) \\\n",
    "     .map(maskS2clouds)  \n",
    "\n",
    "s2_Image = s2.mosaic().clip(Bbox);\n",
    "\n",
    "# Get the band names of the image\n",
    "band_names = s2_Image.bandNames()\n",
    "\n",
    "# Print the band names\n",
    "print('Sentinel band names:', band_names.getInfo())\n",
    "\n",
    "# Add composite layer to the map\n",
    "# Sentinel-2 visualization parameters\n",
    "s2Viz = {'bands': ['B4', 'B3', 'B2'], 'min': 0, 'max': 0.3}\n",
    "\n",
    "Map_1.addLayer(s2_Image, s2Viz, 'Sentinel 2')"
   ]
  },
  {
   "cell_type": "code",
   "execution_count": 9,
   "id": "f165313e-c46f-4630-b384-555d49078551",
   "metadata": {},
   "outputs": [
    {
     "data": {
      "text/html": [
       "\n",
       "            <style>\n",
       "                .geemap-dark {\n",
       "                    --jp-widgets-color: white;\n",
       "                    --jp-widgets-label-color: white;\n",
       "                    --jp-ui-font-color1: white;\n",
       "                    --jp-layout-color2: #454545;\n",
       "                    background-color: #383838;\n",
       "                }\n",
       "\n",
       "                .geemap-dark .jupyter-button {\n",
       "                    --jp-layout-color3: #383838;\n",
       "                }\n",
       "\n",
       "                .geemap-colab {\n",
       "                    background-color: var(--colab-primary-surface-color, white);\n",
       "                }\n",
       "\n",
       "                .geemap-colab .jupyter-button {\n",
       "                    --jp-layout-color3: var(--colab-primary-surface-color, white);\n",
       "                }\n",
       "            </style>\n",
       "            "
      ],
      "text/plain": [
       "<IPython.core.display.HTML object>"
      ]
     },
     "metadata": {},
     "output_type": "display_data"
    },
    {
     "name": "stdout",
     "output_type": "stream",
     "text": [
      "Landsat_Band names: ['SR_B2', 'SR_B3', 'SR_B4', 'ST_B10', 'QA_PIXEL']\n"
     ]
    }
   ],
   "source": [
    "#Landsat 8 and 9\n",
    "# Define the function to mask clouds from Landsat images\n",
    "def cloudMask(image):\n",
    "    qa = image.select('QA_PIXEL')\n",
    "    mask = qa.bitwiseAnd(1 << 3).Or(qa.bitwiseAnd(1 << 4))\n",
    "    return image.updateMask(mask.Not())\n",
    "\n",
    "\n",
    "\n",
    "\n",
    "# Load and process Landsat data\n",
    "landsat8_collection = (ee.ImageCollection('LANDSAT/LC08/C02/T1_L2')\n",
    "       .filterBounds(Bound_geom))\n",
    "\n",
    "landsat9_collection = (ee.ImageCollection('LANDSAT/LC09/C02/T1_L2')\n",
    "       .filterBounds(Bound_geom))\n",
    "\n",
    "# Merge the collections\n",
    "Lc = landsat8_collection.merge(landsat9_collection)\n",
    "\n",
    "# Filter by date and cloud cover\n",
    "composite = Lc.filterDate(start_date, end_date).select('SR_B2','SR_B3','SR_B4', 'ST_B10', 'QA_PIXEL')\n",
    "composite = composite.filter(ee.Filter.lt('CLOUD_COVER', 2))\n",
    "\n",
    "# Define the function to apply scale factors\n",
    "def apply_scale_factors(image):\n",
    "    # Optical bands scaling\n",
    "    optical_bands = image.select(['SR_B.']).multiply(0.0000275).add(-0.2)\n",
    "    \n",
    "    # Thermal bands scaling\n",
    "    thermal_bands = image.select('ST_B10').multiply(0.00341802).add(149.0).subtract(273.15)\n",
    "    \n",
    "    # Add scaled bands to the image\n",
    "    image = image.addBands(optical_bands, None, True).addBands(thermal_bands, None, True)\n",
    "    \n",
    "    return image\n",
    "\n",
    "# Apply the scale factors function to the dataset\n",
    "composite = composite.map(apply_scale_factors)\n",
    "\n",
    "Lc_Image= composite.mean().clip(Bound_geom)\n",
    "\n",
    "# Get the band names of the image\n",
    "L_band_names = Lc_Image.bandNames().getInfo()\n",
    "\n",
    "# Print the band names\n",
    "print('Landsat_Band names:', L_band_names)\n",
    "\n",
    "#Visualize\n",
    "# Define visualization parameters\n",
    "RGB_viz = {\n",
    "  'bands': ['SR_B4', 'SR_B3', 'SR_B2'],\n",
    "  'min': 0.0,\n",
    "  'max': 0.3,\n",
    "}\n",
    "\n",
    "# Add the layer to the map\n",
    "Map_1.addLayer(Lc_Image, RGB_viz, 'Landsat True Color')\n"
   ]
  },
  {
   "cell_type": "code",
   "execution_count": 10,
   "id": "c755e91d-de3b-475a-b8f6-e538d299c15a",
   "metadata": {},
   "outputs": [
    {
     "data": {
      "text/html": [
       "\n",
       "            <style>\n",
       "                .geemap-dark {\n",
       "                    --jp-widgets-color: white;\n",
       "                    --jp-widgets-label-color: white;\n",
       "                    --jp-ui-font-color1: white;\n",
       "                    --jp-layout-color2: #454545;\n",
       "                    background-color: #383838;\n",
       "                }\n",
       "\n",
       "                .geemap-dark .jupyter-button {\n",
       "                    --jp-layout-color3: #383838;\n",
       "                }\n",
       "\n",
       "                .geemap-colab {\n",
       "                    background-color: var(--colab-primary-surface-color, white);\n",
       "                }\n",
       "\n",
       "                .geemap-colab .jupyter-button {\n",
       "                    --jp-layout-color3: var(--colab-primary-surface-color, white);\n",
       "                }\n",
       "            </style>\n",
       "            "
      ],
      "text/plain": [
       "<IPython.core.display.HTML object>"
      ]
     },
     "metadata": {},
     "output_type": "display_data"
    },
    {
     "name": "stdout",
     "output_type": "stream",
     "text": [
      "Modis_Band names: ['LST_Day_1km', 'QC_Day', 'Day_view_time', 'Day_view_angle', 'LST_Night_1km', 'QC_Night', 'Night_view_time', 'Night_view_angle', 'Emis_31', 'Emis_32', 'Clear_day_cov', 'Clear_night_cov', 'LSTN_C']\n"
     ]
    }
   ],
   "source": [
    "#Modis aqua\n",
    "# Function to extract QC bits\n",
    "def get_qc_bits(image, start, end, new_name):\n",
    "    pattern = 0\n",
    "    for i in range(start, end+1):\n",
    "        pattern += 2 ** i\n",
    "    # Return a single band image of the extracted QC bits, giving the band a new name.\n",
    "    return image.select([0], [new_name]) \\\n",
    "                 .bitwiseAnd(pattern) \\\n",
    "                 .rightShift(start)\n",
    "\n",
    "# Function to mask out cloudy pixels & cloud state using the QC band.\n",
    "def mask_qc(image):\n",
    "    # Select the QC_Night and QC_Day bands from the MODIS data product\n",
    "    QC = image.select(['QC_Night', 'QC_Day'])\n",
    "    # Get the internal_cloud_algorithm_flag bit.\n",
    "    cloud = get_qc_bits(QC, 0, 1, 'QC_state') \\\n",
    "                .expression(\"b(0) == 3 || b(0) == 2\")\n",
    "    error = get_qc_bits(QC, 6, 7, 'T_err') \\\n",
    "                .expression(\" b(0) == 3\")\n",
    "    # Return an image masking out cloudy and low quality areas\n",
    "    image = image.updateMask(error.Not())\n",
    "    return image.updateMask(cloud.Not())\n",
    "\n",
    "# Filter MODIS image collection by year, date ranges, and geographical boundaries.\n",
    "collection = ee.ImageCollection('MODIS/061/MYD11A1') \\\n",
    "    .filterDate(start_date, end_date) \\\n",
    "    .map(mask_qc)\n",
    "\n",
    "# Function to derive nighttime LST in Celsius\n",
    "def rescale_night_lst(image):\n",
    "    night_lst_c = image.expression(\n",
    "        '(A * 0.02) - 273.15',\n",
    "        {\n",
    "            'A': image.select('LST_Night_1km')\n",
    "        }\n",
    "    ).rename('LSTN_C')\n",
    "    return image.addBands(night_lst_c)\n",
    "\n",
    "# Apply the function to the collection\n",
    "collection = collection.map(rescale_night_lst)\n",
    "\n",
    "# Clip the nighttime LST to study bounds\n",
    "Mc_Image = collection.mean().clip(Bound_geom)\n",
    "\n",
    "# Get the band names of the image\n",
    "Mc_band_names = Mc_Image.bandNames().getInfo()\n",
    "\n",
    "# Print the band names\n",
    "print('Modis_Band names:', Mc_band_names)"
   ]
  },
  {
   "cell_type": "markdown",
   "id": "a8f41d71-1a5b-4426-9b80-961099e4fc1b",
   "metadata": {},
   "source": [
    "<h1><u><font color='red'>Step 4</font></u></h1>\n",
    "\n",
    "#### Urban Heat Analysis"
   ]
  },
  {
   "cell_type": "markdown",
   "id": "71834c7d-9852-4383-8299-73185e7f667f",
   "metadata": {},
   "source": [
    "<h4><font color='blue'>Load satellite imagery</font></h4>\n",
    "\n",
    "<blockquote>Land Surface Temperature (LST)\n",
    "<blockquote>\n",
    "    <p>Daytime - Landsat</p>\n",
    "    <p>Nighttime - Modis Aqua</p>\n",
    "</blockquote></blockquote></blockquote>"
   ]
  },
  {
   "cell_type": "markdown",
   "id": "7cb87dad-a677-4c68-86c5-2b68fe186ae6",
   "metadata": {},
   "source": [
    "#### Day time"
   ]
  },
  {
   "cell_type": "code",
   "execution_count": 11,
   "id": "9a663317-666f-4469-b45e-34c4e1988c60",
   "metadata": {},
   "outputs": [
    {
     "data": {
      "text/html": [
       "\n",
       "            <style>\n",
       "                .geemap-dark {\n",
       "                    --jp-widgets-color: white;\n",
       "                    --jp-widgets-label-color: white;\n",
       "                    --jp-ui-font-color1: white;\n",
       "                    --jp-layout-color2: #454545;\n",
       "                    background-color: #383838;\n",
       "                }\n",
       "\n",
       "                .geemap-dark .jupyter-button {\n",
       "                    --jp-layout-color3: #383838;\n",
       "                }\n",
       "\n",
       "                .geemap-colab {\n",
       "                    background-color: var(--colab-primary-surface-color, white);\n",
       "                }\n",
       "\n",
       "                .geemap-colab .jupyter-button {\n",
       "                    --jp-layout-color3: var(--colab-primary-surface-color, white);\n",
       "                }\n",
       "            </style>\n",
       "            "
      ],
      "text/plain": [
       "<IPython.core.display.HTML object>"
      ]
     },
     "metadata": {},
     "output_type": "display_data"
    },
    {
     "name": "stdout",
     "output_type": "stream",
     "text": [
      "Minimum value: 20.981977550000007\n",
      "Maximum value: 36.61998872000002\n",
      "Standard deviation value: 1.8908200860419409\n",
      "mean value: 28.78680134879551\n"
     ]
    }
   ],
   "source": [
    "#Select LST band\n",
    "LST = Lc_Image.select(\"ST_B10\").rename('LST')\n",
    "\n",
    "# Compute minimum, maximum, mean and stdDev values\n",
    "LST_min_max = LST.reduceRegion(\n",
    "    reducer=ee.Reducer.minMax(),\n",
    "    geometry=Bound_geom,\n",
    "    scale=30\n",
    ") \n",
    "# Get minimum and maximum values\n",
    "LST_min_value = LST_min_max.get('LST_min').getInfo()\n",
    "LST_max_value = LST_min_max.get('LST_max').getInfo()\n",
    "\n",
    "\n",
    "# Compute standard deviation\n",
    "LST_std_dev = LST.reduceRegion(\n",
    "    reducer=ee.Reducer.stdDev(),\n",
    "    geometry=Bound_geom,\n",
    "    scale=30\n",
    ")\n",
    "# Get standard deviation value\n",
    "LST_std_value = LST_std_dev.get('LST').getInfo()\n",
    "\n",
    "# Apply the mean reducer to the entire collection\n",
    "LST_mean = LST.reduceRegion(\n",
    "    reducer=ee.Reducer.mean(),\n",
    "    geometry=Bound_geom,\n",
    "    scale=30\n",
    ")\n",
    "# Get mean value\n",
    "LST_mean_value = LST_mean.get('LST').getInfo()\n",
    "\n",
    "#Visualization parameters for surface temperature\n",
    "LST_visParam = {\n",
    "  #\"bands\": \"LST\",\n",
    "  \"min\": LST_min_value,\n",
    "  \"max\": LST_max_value,\n",
    "  #\"palette\": ['blue', 'white', 'red'],\n",
    "  \"palette\": ['blue', 'limegreen', 'yellow', 'darkorange', 'red'],\n",
    "  \"opacity\": 1\n",
    "}\n",
    "\n",
    "#Add to map\n",
    "Map_1.addLayer(LST, LST_visParam,\"Land Surface temperature\")\n",
    "\n",
    "#Add legend\n",
    "Map_1.add_colorbar(\n",
    "    LST_visParam,\n",
    "    label=\"Temperature (degrees Celsius)\",\n",
    "    layer_name=\"LST\",\n",
    "    orientation=\"horizontal\",\n",
    "    position=\"bottomright\",\n",
    "    transparent_bg=True,\n",
    "    discrete=True,\n",
    ")\n",
    "\n",
    "# Print the values\n",
    "print(\"Minimum value:\", LST_min_value)\n",
    "print(\"Maximum value:\", LST_max_value)\n",
    "print(\"Standard deviation value:\", LST_std_value)\n",
    "print(\"mean value:\", LST_mean_value)"
   ]
  },
  {
   "cell_type": "markdown",
   "id": "140d635d-0772-4236-b1d4-eb14eefee6b3",
   "metadata": {},
   "source": [
    "#### Night time"
   ]
  },
  {
   "cell_type": "code",
   "execution_count": 12,
   "id": "5771052f-2138-4f41-aa44-fa6504359f29",
   "metadata": {},
   "outputs": [
    {
     "data": {
      "text/html": [
       "\n",
       "            <style>\n",
       "                .geemap-dark {\n",
       "                    --jp-widgets-color: white;\n",
       "                    --jp-widgets-label-color: white;\n",
       "                    --jp-ui-font-color1: white;\n",
       "                    --jp-layout-color2: #454545;\n",
       "                    background-color: #383838;\n",
       "                }\n",
       "\n",
       "                .geemap-dark .jupyter-button {\n",
       "                    --jp-layout-color3: #383838;\n",
       "                }\n",
       "\n",
       "                .geemap-colab {\n",
       "                    background-color: var(--colab-primary-surface-color, white);\n",
       "                }\n",
       "\n",
       "                .geemap-colab .jupyter-button {\n",
       "                    --jp-layout-color3: var(--colab-primary-surface-color, white);\n",
       "                }\n",
       "            </style>\n",
       "            "
      ],
      "text/plain": [
       "<IPython.core.display.HTML object>"
      ]
     },
     "metadata": {},
     "output_type": "display_data"
    },
    {
     "name": "stdout",
     "output_type": "stream",
     "text": [
      "Minimum value: 8.665652173913076\n",
      "Maximum value: 15.248695652173947\n",
      "Standard deviation: 1.2742159074491004\n",
      "mean value: 11.192776451391381\n"
     ]
    }
   ],
   "source": [
    "# Select the nighttime LST band\n",
    "values_lstn = Mc_Image.select(\"LSTN_C\")\n",
    "\n",
    "\n",
    "# Compute minimum, maximum, mean and stdDev values\n",
    "LSTmodis_min_max = values_lstn.reduceRegion(\n",
    "    reducer=ee.Reducer.minMax(),\n",
    "    geometry=Bound_geom,\n",
    "    scale=30\n",
    ") \n",
    "# Get minimum and maximum values\n",
    "LSTmodis_min_value = LSTmodis_min_max.get(\"LSTN_C_min\").getInfo()\n",
    "LSTmodis_max_value = LSTmodis_min_max.get(\"LSTN_C_max\").getInfo()\n",
    "\n",
    "# Compute standard deviation\n",
    "LSTmodis_std_dev = values_lstn.reduceRegion(\n",
    "    reducer=ee.Reducer.stdDev(),\n",
    "    geometry=Bound_geom,\n",
    "    scale=30\n",
    ")\n",
    "# Get standard deviation value\n",
    "LSTmodis_std_value = LSTmodis_std_dev.get('LSTN_C').getInfo()\n",
    "\n",
    "# Apply the mean reducer to the entire collection\n",
    "LSTmodis_mean = values_lstn.reduceRegion(\n",
    "    reducer=ee.Reducer.mean(),\n",
    "    geometry=Bound_geom,\n",
    "    scale=30\n",
    ")\n",
    "# Get mean value\n",
    "LSTmodis_mean_value = LSTmodis_mean.get('LSTN_C').getInfo()\n",
    "\n",
    "# Print the values\n",
    "print(\"Minimum value:\", LSTmodis_min_value)\n",
    "print(\"Maximum value:\", LSTmodis_max_value)\n",
    "print(\"Standard deviation:\", LSTmodis_std_value)\n",
    "print(\"mean value:\", LSTmodis_mean_value)\n",
    "\n",
    "#Visualization parameters for surface temperature\n",
    "LSTn_visParam = {\n",
    "    #\"bands\": \"LST\",\n",
    "    \"min\": LSTmodis_min_value, \n",
    "    \"max\": LSTmodis_max_value,\n",
    "    \"palette\": ['blue', 'white', 'red'],\n",
    "    #\"palette\": ['blue', 'limegreen', 'yellow', 'darkorange', 'red'],\n",
    "    \"opacity\": 1\n",
    "}\n",
    "\n",
    "#Add to map\n",
    "Map_1.addLayer(values_lstn, LSTn_visParam,\"Land Surface temperature (Night - Modis)\")\n"
   ]
  },
  {
   "cell_type": "markdown",
   "id": "27fc1ba3-b4cc-4096-a3fb-06f232a66f2d",
   "metadata": {},
   "source": [
    "#### Combination of both day and night lst"
   ]
  },
  {
   "cell_type": "code",
   "execution_count": 13,
   "id": "67ca590b-0f56-499a-8470-b15461f464db",
   "metadata": {},
   "outputs": [
    {
     "data": {
      "text/html": [
       "\n",
       "            <style>\n",
       "                .geemap-dark {\n",
       "                    --jp-widgets-color: white;\n",
       "                    --jp-widgets-label-color: white;\n",
       "                    --jp-ui-font-color1: white;\n",
       "                    --jp-layout-color2: #454545;\n",
       "                    background-color: #383838;\n",
       "                }\n",
       "\n",
       "                .geemap-dark .jupyter-button {\n",
       "                    --jp-layout-color3: #383838;\n",
       "                }\n",
       "\n",
       "                .geemap-colab {\n",
       "                    background-color: var(--colab-primary-surface-color, white);\n",
       "                }\n",
       "\n",
       "                .geemap-colab .jupyter-button {\n",
       "                    --jp-layout-color3: var(--colab-primary-surface-color, white);\n",
       "                }\n",
       "            </style>\n",
       "            "
      ],
      "text/plain": [
       "<IPython.core.display.HTML object>"
      ]
     },
     "metadata": {},
     "output_type": "display_data"
    },
    {
     "name": "stdout",
     "output_type": "stream",
     "text": [
      "Minimum value: 17.10779882893942\n",
      "Maximum value: 24.140650346111137\n",
      "Standard Deviation: 1.0737858674327883\n",
      "Mean value: 19.991556864931784\n"
     ]
    }
   ],
   "source": [
    "# Add the two images together\n",
    "LSTlm = LST.add(values_lstn)\n",
    "\n",
    "# Divide the sum by 2 to get the mean\n",
    "LSTlm = LSTlm.divide(2)\n",
    "\n",
    "# Compute minimum, maximum, mean and stdDev values\n",
    "LSTlm_min_max = LSTlm.reduceRegion(\n",
    "    reducer=ee.Reducer.minMax(),\n",
    "    geometry=Bound_geom,\n",
    "    scale=30\n",
    ") \n",
    "# Get minimum and maximum values\n",
    "LSTlm_min_value = LSTlm_min_max.get('LST_min').getInfo()\n",
    "LSTlm_max_value = LSTlm_min_max.get('LST_max').getInfo()\n",
    "\n",
    "# Compute standard deviation\n",
    "LSTlm_std_dev = LSTlm.reduceRegion(\n",
    "    reducer=ee.Reducer.stdDev(),\n",
    "    geometry=Bound_geom,\n",
    "    scale=30\n",
    ")\n",
    "# Get standard deviation value\n",
    "LSTlm_std_value = LSTlm_std_dev.get('LST').getInfo()\n",
    "\n",
    "# Apply the mean reducer to the entire collection\n",
    "LSTlm_mean = LSTlm.reduceRegion(\n",
    "    reducer=ee.Reducer.mean(),\n",
    "    geometry=Bound_geom,\n",
    "    scale=30\n",
    ")\n",
    "# Get mean value\n",
    "LSTlm_mean_value = LSTlm_mean.get('LST').getInfo()\n",
    "\n",
    "# Print the values\n",
    "print(\"Minimum value:\", LSTlm_min_value)\n",
    "print(\"Maximum value:\", LSTlm_max_value)\n",
    "print(\"Standard Deviation:\", LSTlm_std_value)\n",
    "print(\"Mean value:\", LSTlm_mean_value)\n",
    "\n",
    "#Visualization parameters for surface temperature\n",
    "LSTdn_visParam = {\n",
    "    #\"bands\": \"LST\",\n",
    "    \"min\": LSTlm_min_value, \n",
    "    \"max\": LSTlm_max_value,\n",
    "    #\"palette\": ['blue', 'white', 'red'],\n",
    "    \"palette\": ['blue', 'limegreen', 'yellow', 'darkorange', 'red'],\n",
    "    \"opacity\": 1\n",
    "}\n",
    "\n",
    "\n",
    "Map_1.addLayer(LSTlm, LSTdn_visParam,\"Land Surface temperature (Day night mean)\")\n",
    "\n",
    "\n",
    "#3D Visualization\n",
    "dem = ee.Image(\"CGIAR/SRTM90_V4\").clip(Bound_geom)\n",
    "\n",
    "LSTib = geemap.blend(LSTlm.clip(Bound_geom), dem, top_vis=LSTdn_visParam, expression=\"a*b\")\n",
    "\n",
    "\n",
    "Map_1.addLayer(LSTib, {}, \"GazaLST\")\n"
   ]
  },
  {
   "cell_type": "markdown",
   "id": "79474d8a-fa12-411c-9d6c-465bbacdb321",
   "metadata": {},
   "source": [
    "<h1><u><font color='red'>Step 5</font></u></h1>\n",
    "\n",
    "#### Vulnerability index"
   ]
  },
  {
   "cell_type": "markdown",
   "id": "ccfb5482-4c4e-43d9-ab9a-5bd304e75c37",
   "metadata": {},
   "source": [
    "<h4><font color='blue'>Calculate indices</font></h4>\n",
    "\n",
    "<blockquote>\n",
    "    <p>Normalized Difference Vegetation Index(NDVI)</p>\n",
    "    <p>Bare Soil Index(BSI)</p>\n",
    "</blockquote></blockquote>"
   ]
  },
  {
   "cell_type": "code",
   "execution_count": 14,
   "id": "42ca7084-00a3-4e7b-a844-129f3351bde3",
   "metadata": {},
   "outputs": [
    {
     "data": {
      "text/html": [
       "\n",
       "            <style>\n",
       "                .geemap-dark {\n",
       "                    --jp-widgets-color: white;\n",
       "                    --jp-widgets-label-color: white;\n",
       "                    --jp-ui-font-color1: white;\n",
       "                    --jp-layout-color2: #454545;\n",
       "                    background-color: #383838;\n",
       "                }\n",
       "\n",
       "                .geemap-dark .jupyter-button {\n",
       "                    --jp-layout-color3: #383838;\n",
       "                }\n",
       "\n",
       "                .geemap-colab {\n",
       "                    background-color: var(--colab-primary-surface-color, white);\n",
       "                }\n",
       "\n",
       "                .geemap-colab .jupyter-button {\n",
       "                    --jp-layout-color3: var(--colab-primary-surface-color, white);\n",
       "                }\n",
       "            </style>\n",
       "            "
      ],
      "text/plain": [
       "<IPython.core.display.HTML object>"
      ]
     },
     "metadata": {},
     "output_type": "display_data"
    },
    {
     "name": "stdout",
     "output_type": "stream",
     "text": [
      "Minimum value: -0.4942528679383344\n",
      "Maximum value: 0.9089066081710333\n",
      "Standard deviation value: 0.17030029053638673\n",
      "mean value: 0.28560165304677276\n"
     ]
    }
   ],
   "source": [
    "#Select bands (Select bands for NIR, SWIR, and Red)\n",
    "nirBand = s2_Image.select('B8').clip(Bound_geom)\n",
    "swirBand = s2_Image.select('B11').clip(Bound_geom)\n",
    "redBand = s2_Image.select('B4').clip(Bound_geom)\n",
    "greenBand = s2_Image.select('B3').clip(Bound_geom)\n",
    "blueBand = s2_Image.select('B2').clip(Bound_geom)\n",
    "swir2Band = s2_Image.select('B12').clip(Bound_geom)\n",
    "\n",
    "s2bands_indices = ee.Image([greenBand, redBand, swirBand, nirBand, blueBand, swir2Band]);\n",
    "\n",
    "#Calculate NDVI\n",
    "\n",
    "#Calculate NDVI\n",
    "#ndvi = nirBand.subtract(redBand).divide(nirBand.add(redBand)).rename('NDVI');\n",
    "ndvi = s2bands_indices.normalizedDifference(['B8', 'B4']).rename('NDVI')\n",
    "\n",
    "#Add indices to map\n",
    "Map_1.addLayer(ndvi, {\"min\": -1, \"max\": 1, \"palette\": ['blue', 'white', 'green']},\"NDVI\")\n",
    "\n",
    "#Get min and max stats for NDVI\n",
    "indice_composite = ee.Image([ndvi]);\n",
    "#Get min and max of ndvi\n",
    "# Function to compute min and max values\n",
    "# Compute minimum and maximum values\n",
    "indices_min_max = indice_composite.reduceRegion(\n",
    "    reducer=ee.Reducer.minMax(),\n",
    "    geometry=Bound_geom,\n",
    "    scale=30\n",
    ") \n",
    "\n",
    "# Compute standard deviation\n",
    "indices_std_dev = indice_composite.reduceRegion(\n",
    "    reducer=ee.Reducer.stdDev(),\n",
    "    geometry=Bound_geom,\n",
    "    scale=30\n",
    ") \n",
    "\n",
    "#Get individual stats\n",
    "# Get minimum and maximum values NDVI\n",
    "NDVI_min_value = indices_min_max.get('NDVI_min').getInfo()\n",
    "NDVI_max_value = indices_min_max.get('NDVI_max').getInfo()\n",
    "# Get standard deviation value\n",
    "NDVI_std_value = indices_std_dev.get('NDVI').getInfo()\n",
    "\n",
    "# Apply the mean reducer\n",
    "NDVI_mean = indice_composite.reduceRegion(\n",
    "    reducer=ee.Reducer.mean(),\n",
    "    geometry=Bound_geom,\n",
    "    scale=30\n",
    ")\n",
    "# Get mean value\n",
    "NDVI_mean_value = NDVI_mean.get('NDVI').getInfo()\n",
    "\n",
    "# Print the values\n",
    "print(\"Minimum value:\", NDVI_min_value)\n",
    "print(\"Maximum value:\", NDVI_max_value)\n",
    "print(\"Standard deviation value:\", NDVI_std_value)\n",
    "print(\"mean value:\", NDVI_mean_value)\n"
   ]
  },
  {
   "cell_type": "markdown",
   "id": "414b67f1-9932-4ccb-8b71-e5c4775797ae",
   "metadata": {},
   "source": [
    "#### Get population data."
   ]
  },
  {
   "cell_type": "code",
   "execution_count": 15,
   "id": "97768309-cfe9-40ed-9f9c-4e511df29148",
   "metadata": {},
   "outputs": [
    {
     "data": {
      "text/html": [
       "\n",
       "            <style>\n",
       "                .geemap-dark {\n",
       "                    --jp-widgets-color: white;\n",
       "                    --jp-widgets-label-color: white;\n",
       "                    --jp-ui-font-color1: white;\n",
       "                    --jp-layout-color2: #454545;\n",
       "                    background-color: #383838;\n",
       "                }\n",
       "\n",
       "                .geemap-dark .jupyter-button {\n",
       "                    --jp-layout-color3: #383838;\n",
       "                }\n",
       "\n",
       "                .geemap-colab {\n",
       "                    background-color: var(--colab-primary-surface-color, white);\n",
       "                }\n",
       "\n",
       "                .geemap-colab .jupyter-button {\n",
       "                    --jp-layout-color3: var(--colab-primary-surface-color, white);\n",
       "                }\n",
       "            </style>\n",
       "            "
      ],
      "text/plain": [
       "<IPython.core.display.HTML object>"
      ]
     },
     "metadata": {},
     "output_type": "display_data"
    },
    {
     "name": "stdout",
     "output_type": "stream",
     "text": [
      "Minimum value: 0\n",
      "Maximum value: 564\n",
      "Standard Deviation: 78\n",
      "Mean value: 49\n",
      "Total Population: 1798278\n"
     ]
    }
   ],
   "source": [
    "##Add population variable\n",
    "#Vulnerability map\n",
    "#Import population dataset (2020 world pop)\n",
    "\n",
    "# Area of interest\n",
    "pop_2020 = ee.Image('JRC/GHSL/P2023A/GHS_POP/2020')\n",
    "pop_2020 = pop_2020.updateMask(pop_2020.gte(0))\n",
    "\n",
    "\n",
    "pop_2020_clipped = pop_2020.clip(Bound_geom)\n",
    "\n",
    "populationCountVis = {\n",
    "  'palette' : ['000004', '320A5A', '781B6C', 'BB3654', 'EC6824', 'FBB41A', 'FCFFA4']\n",
    "}\n",
    "\n",
    "Map_1.addLayer(pop_2020_clipped, populationCountVis, 'Population',  True)\n",
    "\n",
    "#Get min and max of pop data\n",
    "# Function to compute min and max values\n",
    "# Compute minimum and maximum values\n",
    "pop_min_max = pop_2020_clipped.reduceRegion(\n",
    "    reducer=ee.Reducer.minMax(),\n",
    "    geometry=Bound_geom,\n",
    "    scale=100\n",
    ") \n",
    "# Convert ndvi_min_max to a Python dictionary\n",
    "pop_min_max_dict = pop_min_max.getInfo()\n",
    "\n",
    "# Compute standard deviation\n",
    "pop_std_dev = pop_2020_clipped.reduceRegion(\n",
    "    reducer=ee.Reducer.stdDev(),\n",
    "    geometry=Bound_geom,\n",
    "    scale=100\n",
    ")\n",
    "\n",
    "# Apply the mean reducer to the entire collection\n",
    "pop_mean = pop_2020_clipped.reduceRegion(\n",
    "    reducer=ee.Reducer.mean(),\n",
    "    geometry=Bound_geom,\n",
    "    scale=100\n",
    ")\n",
    "\n",
    "#Get stats\n",
    "# Get minimum and maximum values\n",
    "pop_min_value = pop_min_max.get('population_count_min').getInfo()\n",
    "pop_max_value = pop_min_max.get('population_count_max').getInfo()\n",
    "pop_std_value = pop_std_dev.get('population_count').getInfo()\n",
    "pop_mean_value = pop_mean.get('population_count').getInfo()\n",
    "\n",
    "# Print the values\n",
    "print(\"Minimum value: {:.0f}\".format( pop_min_value))\n",
    "print(\"Maximum value: {:.0f}\".format(pop_max_value))\n",
    "print(\"Standard Deviation: {:.0f}\".format(pop_std_value))\n",
    "print(\"Mean value: {:.0f}\".format( pop_mean_value))\n",
    "\n",
    "total = pop_2020_clipped.reduceRegion(reducer=ee.Reducer.sum(), geometry=Bound_geom).get('population_count').getInfo()\n",
    "print(\"Total Population: {:.0f}\".format(total))\n",
    "\n"
   ]
  },
  {
   "cell_type": "markdown",
   "id": "a862470b-cbef-4afd-be1e-11e621933df4",
   "metadata": {},
   "source": [
    "#### Standardize images and reclassify"
   ]
  },
  {
   "cell_type": "code",
   "execution_count": 16,
   "id": "09177502-4a3e-4c88-ab31-2b344186d635",
   "metadata": {},
   "outputs": [
    {
     "data": {
      "text/html": [
       "\n",
       "            <style>\n",
       "                .geemap-dark {\n",
       "                    --jp-widgets-color: white;\n",
       "                    --jp-widgets-label-color: white;\n",
       "                    --jp-ui-font-color1: white;\n",
       "                    --jp-layout-color2: #454545;\n",
       "                    background-color: #383838;\n",
       "                }\n",
       "\n",
       "                .geemap-dark .jupyter-button {\n",
       "                    --jp-layout-color3: #383838;\n",
       "                }\n",
       "\n",
       "                .geemap-colab {\n",
       "                    background-color: var(--colab-primary-surface-color, white);\n",
       "                }\n",
       "\n",
       "                .geemap-colab .jupyter-button {\n",
       "                    --jp-layout-color3: var(--colab-primary-surface-color, white);\n",
       "                }\n",
       "            </style>\n",
       "            "
      ],
      "text/plain": [
       "<IPython.core.display.HTML object>"
      ]
     },
     "metadata": {},
     "output_type": "display_data"
    }
   ],
   "source": [
    "LSTlm_std = (LSTlm.subtract(LSTlm_mean_value)).divide(LSTlm_std_value)\n",
    "NDVI_std = (ndvi.subtract(NDVI_mean_value)).divide(NDVI_std_value)\n",
    "POP_std = (pop_2020_clipped.subtract(pop_mean_value)).divide(pop_std_value)\n"
   ]
  },
  {
   "cell_type": "code",
   "execution_count": 17,
   "id": "96225bae-21b9-4552-9ef9-90b04104b71d",
   "metadata": {},
   "outputs": [
    {
     "data": {
      "text/html": [
       "\n",
       "            <style>\n",
       "                .geemap-dark {\n",
       "                    --jp-widgets-color: white;\n",
       "                    --jp-widgets-label-color: white;\n",
       "                    --jp-ui-font-color1: white;\n",
       "                    --jp-layout-color2: #454545;\n",
       "                    background-color: #383838;\n",
       "                }\n",
       "\n",
       "                .geemap-dark .jupyter-button {\n",
       "                    --jp-layout-color3: #383838;\n",
       "                }\n",
       "\n",
       "                .geemap-colab {\n",
       "                    background-color: var(--colab-primary-surface-color, white);\n",
       "                }\n",
       "\n",
       "                .geemap-colab .jupyter-button {\n",
       "                    --jp-layout-color3: var(--colab-primary-surface-color, white);\n",
       "                }\n",
       "            </style>\n",
       "            "
      ],
      "text/plain": [
       "<IPython.core.display.HTML object>"
      ]
     },
     "metadata": {},
     "output_type": "display_data"
    },
    {
     "name": "stdout",
     "output_type": "stream",
     "text": [
      "Properties of hvi_composite_min_max:\n",
      "LST_max: 3.8639859277520787\n",
      "LST_min: -2.6855987990295174\n",
      "NDVI_max: 3.660034596306715\n",
      "NDVI_min: -4.579290607953964\n",
      "population_count_max: 6.5640403499733\n",
      "population_count_min: -0.628481138595714\n"
     ]
    }
   ],
   "source": [
    "#Get min and max stats for NDVI, NDWI and BSI\n",
    "hvi_composite = ee.Image([LSTlm_std, POP_std, NDVI_std]);\n",
    "\n",
    "#Get min and max of lst, ndwi, ndvi and bsi\n",
    "# Function to compute min and max values\n",
    "# Compute minimum and maximum values\n",
    "hvi_composite_min_max = hvi_composite.reduceRegion(\n",
    "    reducer=ee.Reducer.minMax(),\n",
    "    geometry=Bound_geom,\n",
    "    scale=30\n",
    ") \n",
    "\n",
    "# Convert hvi_min_max to a Python dictionary\n",
    "hvi_composite_min_max_dict = hvi_composite_min_max.getInfo()\n",
    "\n",
    "# Print the properties of ndvi_min_max\n",
    "print(\"Properties of hvi_composite_min_max:\")\n",
    "for key, value in hvi_composite_min_max_dict.items():\n",
    "    print(key + \":\", value)"
   ]
  },
  {
   "cell_type": "code",
   "execution_count": 23,
   "id": "bf5ebb99-7496-4934-9b78-e58f6ca0ebbe",
   "metadata": {},
   "outputs": [
    {
     "data": {
      "text/html": [
       "\n",
       "            <style>\n",
       "                .geemap-dark {\n",
       "                    --jp-widgets-color: white;\n",
       "                    --jp-widgets-label-color: white;\n",
       "                    --jp-ui-font-color1: white;\n",
       "                    --jp-layout-color2: #454545;\n",
       "                    background-color: #383838;\n",
       "                }\n",
       "\n",
       "                .geemap-dark .jupyter-button {\n",
       "                    --jp-layout-color3: #383838;\n",
       "                }\n",
       "\n",
       "                .geemap-colab {\n",
       "                    background-color: var(--colab-primary-surface-color, white);\n",
       "                }\n",
       "\n",
       "                .geemap-colab .jupyter-button {\n",
       "                    --jp-layout-color3: var(--colab-primary-surface-color, white);\n",
       "                }\n",
       "            </style>\n",
       "            "
      ],
      "text/plain": [
       "<IPython.core.display.HTML object>"
      ]
     },
     "metadata": {},
     "output_type": "display_data"
    },
    {
     "name": "stdout",
     "output_type": "stream",
     "text": [
      "Min value: 5\n",
      "Max value: 17\n",
      "Mean Vulnerability: 10.498884881191664\n"
     ]
    }
   ],
   "source": [
    "LST_hvi = ee.Image(1).where(LSTlm_std.lte(-2), 1)\\\n",
    "                     .where((LSTlm_std.gt(-2)).And(LSTlm_std.lte(-1)), 2)\\\n",
    "                     .where((LSTlm_std.gt(-1)).And(LSTlm_std.lte(0)), 3)\\\n",
    "                     .where((LSTlm_std.gt(0)).And(LSTlm_std.lte(1)), 4)\\\n",
    "                     .where((LSTlm_std.gt(1)).And(LSTlm_std.lte(2)), 5)\\\n",
    "                     .where(LSTlm_std.gt(2), 6)\n",
    "\n",
    "NDVI_hvi = ee.Image(1).where(NDVI_std.lte(-2), 6)\\\n",
    "                      .where((NDVI_std.gt(-2)).And(NDVI_std.lte(-1)), 5)\\\n",
    "                      .where((NDVI_std.gt(-1)).And(NDVI_std.lte(0)), 4)\\\n",
    "                      .where((NDVI_std.gt(0)).And(NDVI_std.lte(1)), 3)\\\n",
    "                      .where((NDVI_std.gt(1)).And(NDVI_std.lte(2)), 2)\\\n",
    "                      .where(NDVI_std.gt(2), 1)\n",
    "\n",
    "POP_hvi = ee.Image(1).where(POP_std.lte(-2), 1)\\\n",
    "                     .where((POP_std.gt(-2)).And(POP_std.lte(-1)), 2)\\\n",
    "                     .where((POP_std.gt(-1)).And(POP_std.lte(0)), 3)\\\n",
    "                     .where((POP_std.gt(0)).And(POP_std.lte(1)), 4)\\\n",
    "                     .where((POP_std.gt(1)).And(POP_std.lte(2)), 5)\\\n",
    "                     .where(POP_std.gt(2), 6)\n",
    "\n",
    "\n",
    "urban_heat_vulnerability = LST_hvi.add(NDVI_hvi).add(POP_hvi)\n",
    "\n",
    "#Add to map\n",
    "# Compute minimum and maximum values\n",
    "uhv_min_max = urban_heat_vulnerability.reduceRegion(\n",
    "    reducer=ee.Reducer.minMax(),\n",
    "    geometry=Bound_geom,\n",
    "    scale=30\n",
    ") \n",
    "\n",
    "uhv_min_value = uhv_min_max.get('constant_min').getInfo()\n",
    "uhv_max_value = uhv_min_max.get('constant_max').getInfo()\n",
    "\n",
    "uhv_mean = urban_heat_vulnerability.reduceRegion(\n",
    "    reducer=ee.Reducer.mean(),\n",
    "    geometry=Bound_geom,\n",
    "    scale=1000\n",
    ") \n",
    "uhv_mean_value = uhv_mean.get('constant').getInfo()\n",
    "\n",
    "print(\"Min value:\", uhv_min_value)\n",
    "print(\"Max value:\", uhv_max_value)\n",
    "print(\"Mean Vulnerability:\", uhv_mean_value)\n",
    "\n",
    "hvi_visParam = {\n",
    "    #\"bands\": \"LST\",\n",
    "    \"min\": uhv_min_value, \n",
    "    \"max\": uhv_max_value,\n",
    "    #\"palette\": ['red', 'white','blue'],\n",
    "    \"palette\": ['blue', 'limegreen', 'yellow', 'darkorange', 'red'],\n",
    "    \"opacity\": 1\n",
    "}\n",
    "\n",
    "Map_1.addLayer(LST_hvi.clip(Bound_geom), {\"min\": 1, \"max\": 6,\"palette\": ['blue', 'limegreen', 'yellow', 'darkorange', 'red'],\"opacity\": 1}, \"LST_hvi\")\n",
    "Map_1.addLayer(urban_heat_vulnerability.clip(Bound_geom), hvi_visParam, \"urban_heat_vulnerability\")\n"
   ]
  },
  {
   "cell_type": "code",
   "execution_count": null,
   "id": "d72211bc-08a5-437d-812c-985ba0648661",
   "metadata": {},
   "outputs": [],
   "source": []
  }
 ],
 "metadata": {
  "kernelspec": {
   "display_name": "Python 3 (ipykernel)",
   "language": "python",
   "name": "python3"
  },
  "language_info": {
   "codemirror_mode": {
    "name": "ipython",
    "version": 3
   },
   "file_extension": ".py",
   "mimetype": "text/x-python",
   "name": "python",
   "nbconvert_exporter": "python",
   "pygments_lexer": "ipython3",
   "version": "3.12.2"
  }
 },
 "nbformat": 4,
 "nbformat_minor": 5
}
